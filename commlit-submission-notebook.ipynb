{
 "cells": [
  {
   "cell_type": "code",
   "execution_count": 1,
   "id": "4fc67fe5",
   "metadata": {
    "execution": {
     "iopub.execute_input": "2023-08-25T21:59:25.989712Z",
     "iopub.status.busy": "2023-08-25T21:59:25.988726Z",
     "iopub.status.idle": "2023-08-25T21:59:39.085419Z",
     "shell.execute_reply": "2023-08-25T21:59:39.084274Z"
    },
    "papermill": {
     "duration": 13.106337,
     "end_time": "2023-08-25T21:59:39.088973",
     "exception": false,
     "start_time": "2023-08-25T21:59:25.982636",
     "status": "completed"
    },
    "tags": []
   },
   "outputs": [
    {
     "name": "stderr",
     "output_type": "stream",
     "text": [
      "/opt/conda/lib/python3.10/site-packages/scipy/__init__.py:146: UserWarning: A NumPy version >=1.16.5 and <1.23.0 is required for this version of SciPy (detected version 1.23.5\n",
      "  warnings.warn(f\"A NumPy version >={np_minversion} and <{np_maxversion}\"\n",
      "/opt/conda/lib/python3.10/site-packages/tensorflow_io/python/ops/__init__.py:98: UserWarning: unable to load libtensorflow_io_plugins.so: unable to open file: libtensorflow_io_plugins.so, from paths: ['/opt/conda/lib/python3.10/site-packages/tensorflow_io/python/ops/libtensorflow_io_plugins.so']\n",
      "caused by: ['/opt/conda/lib/python3.10/site-packages/tensorflow_io/python/ops/libtensorflow_io_plugins.so: undefined symbol: _ZN3tsl6StatusC1EN10tensorflow5error4CodeESt17basic_string_viewIcSt11char_traitsIcEENS_14SourceLocationE']\n",
      "  warnings.warn(f\"unable to load libtensorflow_io_plugins.so: {e}\")\n",
      "/opt/conda/lib/python3.10/site-packages/tensorflow_io/python/ops/__init__.py:104: UserWarning: file system plugins are not loaded: unable to open file: libtensorflow_io.so, from paths: ['/opt/conda/lib/python3.10/site-packages/tensorflow_io/python/ops/libtensorflow_io.so']\n",
      "caused by: ['/opt/conda/lib/python3.10/site-packages/tensorflow_io/python/ops/libtensorflow_io.so: undefined symbol: _ZTVN10tensorflow13GcsFileSystemE']\n",
      "  warnings.warn(f\"file system plugins are not loaded: {e}\")\n"
     ]
    }
   ],
   "source": [
    "import time \n",
    "import wandb\n",
    "import math\n",
    "import os\n",
    "import gc\n",
    "import pandas as pd \n",
    "import numpy as np \n",
    "from datetime import datetime\n",
    "import seaborn as sns \n",
    "import matplotlib.pyplot as plt \n",
    "from tqdm.auto import tqdm\n",
    "from sklearn.model_selection import StratifiedKFold\n",
    "\n",
    "import tensorflow as tf\n",
    "from tensorflow.keras import mixed_precision\n",
    "import tensorflow.keras.backend as K\n",
    "import transformers \n",
    "from transformers import AutoTokenizer,TFAutoModel\n",
    "\n",
    "mixed_precision.set_global_policy('mixed_float16')  \n"
   ]
  },
  {
   "cell_type": "code",
   "execution_count": 2,
   "id": "b770ef32",
   "metadata": {
    "execution": {
     "iopub.execute_input": "2023-08-25T21:59:39.103600Z",
     "iopub.status.busy": "2023-08-25T21:59:39.102646Z",
     "iopub.status.idle": "2023-08-25T21:59:39.113586Z",
     "shell.execute_reply": "2023-08-25T21:59:39.112614Z"
    },
    "papermill": {
     "duration": 0.021243,
     "end_time": "2023-08-25T21:59:39.116754",
     "exception": false,
     "start_time": "2023-08-25T21:59:39.095511",
     "status": "completed"
    },
    "tags": []
   },
   "outputs": [],
   "source": [
    "config = {\n",
    "    \"fold_strategy\"     :\"stratified\",\n",
    "     \"n_folds\"          : 5,\n",
    "     \"seed\"             : 100,\n",
    "     \"model\"            :\"roberta-base\",\n",
    "     \"model_path\"       : None,\n",
    "     \"max_lenghth\"      : 512,\n",
    "     \"earlys_patience\"  :5,\n",
    "     \"reduce_lr_plateau\":10,\n",
    "     \"epochs\"           :12,\n",
    "     \"batch_size\"       :32,\n",
    "     \"model_path\"       :'./model_weights',\n",
    "     \"training\"         : False\n",
    "    \n",
    "     \n",
    "}\n",
    "\n",
    "OUTPUT_DIR = './'\n",
    "if not os.path.exists(OUTPUT_DIR):\n",
    "    os.makedirs(OUTPUT_DIR)"
   ]
  },
  {
   "cell_type": "code",
   "execution_count": 3,
   "id": "82a11e61",
   "metadata": {
    "execution": {
     "iopub.execute_input": "2023-08-25T21:59:39.132095Z",
     "iopub.status.busy": "2023-08-25T21:59:39.131628Z",
     "iopub.status.idle": "2023-08-25T21:59:39.155884Z",
     "shell.execute_reply": "2023-08-25T21:59:39.154803Z"
    },
    "papermill": {
     "duration": 0.035924,
     "end_time": "2023-08-25T21:59:39.159254",
     "exception": false,
     "start_time": "2023-08-25T21:59:39.123330",
     "status": "completed"
    },
    "tags": []
   },
   "outputs": [],
   "source": [
    "df_test_prompts=pd.read_csv(\"/kaggle/input/commonlit-evaluate-student-summaries/prompts_test.csv\")\n",
    "df_test_summaries=pd.read_csv(\"/kaggle/input/commonlit-evaluate-student-summaries/summaries_test.csv\")\n",
    "#sample_sub=pd.read_csv(\"/kaggle/input/commonlit-evaluate-student-summaries/sample_submission.csv\")"
   ]
  },
  {
   "cell_type": "code",
   "execution_count": 4,
   "id": "8ee07b94",
   "metadata": {
    "execution": {
     "iopub.execute_input": "2023-08-25T21:59:39.174765Z",
     "iopub.status.busy": "2023-08-25T21:59:39.174236Z",
     "iopub.status.idle": "2023-08-25T21:59:39.218019Z",
     "shell.execute_reply": "2023-08-25T21:59:39.216977Z"
    },
    "papermill": {
     "duration": 0.055081,
     "end_time": "2023-08-25T21:59:39.221328",
     "exception": false,
     "start_time": "2023-08-25T21:59:39.166247",
     "status": "completed"
    },
    "tags": []
   },
   "outputs": [
    {
     "data": {
      "text/html": [
       "<div>\n",
       "<style scoped>\n",
       "    .dataframe tbody tr th:only-of-type {\n",
       "        vertical-align: middle;\n",
       "    }\n",
       "\n",
       "    .dataframe tbody tr th {\n",
       "        vertical-align: top;\n",
       "    }\n",
       "\n",
       "    .dataframe thead th {\n",
       "        text-align: right;\n",
       "    }\n",
       "</style>\n",
       "<table border=\"1\" class=\"dataframe\">\n",
       "  <thead>\n",
       "    <tr style=\"text-align: right;\">\n",
       "      <th></th>\n",
       "      <th>student_id</th>\n",
       "      <th>prompt_id</th>\n",
       "      <th>text</th>\n",
       "      <th>prompt_question</th>\n",
       "      <th>prompt_title</th>\n",
       "      <th>prompt_text</th>\n",
       "    </tr>\n",
       "  </thead>\n",
       "  <tbody>\n",
       "    <tr>\n",
       "      <th>0</th>\n",
       "      <td>000000ffffff</td>\n",
       "      <td>abc123</td>\n",
       "      <td>Example text 1</td>\n",
       "      <td>Summarize...</td>\n",
       "      <td>Example Title 1</td>\n",
       "      <td>Heading\\nText...</td>\n",
       "    </tr>\n",
       "    <tr>\n",
       "      <th>1</th>\n",
       "      <td>222222cccccc</td>\n",
       "      <td>abc123</td>\n",
       "      <td>Example text 3</td>\n",
       "      <td>Summarize...</td>\n",
       "      <td>Example Title 1</td>\n",
       "      <td>Heading\\nText...</td>\n",
       "    </tr>\n",
       "    <tr>\n",
       "      <th>2</th>\n",
       "      <td>111111eeeeee</td>\n",
       "      <td>def789</td>\n",
       "      <td>Example text 2</td>\n",
       "      <td>Summarize...</td>\n",
       "      <td>Example Title 2</td>\n",
       "      <td>Heading\\nText...</td>\n",
       "    </tr>\n",
       "    <tr>\n",
       "      <th>3</th>\n",
       "      <td>333333dddddd</td>\n",
       "      <td>def789</td>\n",
       "      <td>Example text 4</td>\n",
       "      <td>Summarize...</td>\n",
       "      <td>Example Title 2</td>\n",
       "      <td>Heading\\nText...</td>\n",
       "    </tr>\n",
       "  </tbody>\n",
       "</table>\n",
       "</div>"
      ],
      "text/plain": [
       "     student_id prompt_id            text prompt_question     prompt_title  \\\n",
       "0  000000ffffff    abc123  Example text 1    Summarize...  Example Title 1   \n",
       "1  222222cccccc    abc123  Example text 3    Summarize...  Example Title 1   \n",
       "2  111111eeeeee    def789  Example text 2    Summarize...  Example Title 2   \n",
       "3  333333dddddd    def789  Example text 4    Summarize...  Example Title 2   \n",
       "\n",
       "        prompt_text  \n",
       "0  Heading\\nText...  \n",
       "1  Heading\\nText...  \n",
       "2  Heading\\nText...  \n",
       "3  Heading\\nText...  "
      ]
     },
     "execution_count": 4,
     "metadata": {},
     "output_type": "execute_result"
    }
   ],
   "source": [
    "df_test=pd.merge(df_test_summaries,df_test_prompts, on=\"prompt_id\")\n",
    "df_test.head()"
   ]
  },
  {
   "cell_type": "code",
   "execution_count": 5,
   "id": "23b1d2cc",
   "metadata": {
    "execution": {
     "iopub.execute_input": "2023-08-25T21:59:39.238130Z",
     "iopub.status.busy": "2023-08-25T21:59:39.237703Z",
     "iopub.status.idle": "2023-08-25T21:59:39.455733Z",
     "shell.execute_reply": "2023-08-25T21:59:39.454698Z"
    },
    "papermill": {
     "duration": 0.229696,
     "end_time": "2023-08-25T21:59:39.458916",
     "exception": false,
     "start_time": "2023-08-25T21:59:39.229220",
     "status": "completed"
    },
    "tags": []
   },
   "outputs": [],
   "source": [
    "tokenizer=AutoTokenizer.from_pretrained('/kaggle/input/commonlit-evaluate-summary/tokenizer/')\n",
    "config['tokenizer']=tokenizer\n",
    "SEP=tokenizer.sep_token\n",
    "df_test['full_text']    =df_test['prompt_question'] + df_test['text']\n"
   ]
  },
  {
   "cell_type": "code",
   "execution_count": 6,
   "id": "9cb327b3",
   "metadata": {
    "execution": {
     "iopub.execute_input": "2023-08-25T21:59:39.476632Z",
     "iopub.status.busy": "2023-08-25T21:59:39.476222Z",
     "iopub.status.idle": "2023-08-25T21:59:39.489868Z",
     "shell.execute_reply": "2023-08-25T21:59:39.489007Z"
    },
    "papermill": {
     "duration": 0.0272,
     "end_time": "2023-08-25T21:59:39.492492",
     "exception": false,
     "start_time": "2023-08-25T21:59:39.465292",
     "status": "completed"
    },
    "tags": []
   },
   "outputs": [],
   "source": [
    "class Dataset_generator(tf.keras.utils.Sequence):\n",
    "\n",
    "    def __init__(self,x_id, x_set,config, batch_size):\n",
    "        self.id=x_id\n",
    "        self.x= x_set\n",
    "        self.batch_size = batch_size\n",
    "        self.config=config\n",
    "\n",
    "    def __len__(self):\n",
    "        return math.ceil(len(self.x) / self.batch_size)\n",
    "\n",
    "    def __getitem__(self, idx):\n",
    "        low = idx * self.batch_size\n",
    "        # Cap upper bound at array length; the last batch may be smaller\n",
    "        # if the total number of items is not a multiple of batch size.\n",
    "        high = min(low + self.batch_size, len(self.x))\n",
    "        batch_x = self.x[low:high]\n",
    "        batch_id=self.id[low:high]\n",
    "        \n",
    "        \n",
    "        x_encoded=config['tokenizer'].batch_encode_plus(\n",
    "                                batch_x.tolist(),\n",
    "                                return_tensors='tf',\n",
    "                                max_length=config['tokenizer'].model_max_length,\n",
    "                                padding='max_length',\n",
    "                                truncation=True,\n",
    "                                return_token_type_ids=False\n",
    "                            )\n",
    "        \n",
    "        return x_encoded,batch_id\n",
    "\n",
    "      \n",
    "test_ds=Dataset_generator(df_test['student_id'],df_test['full_text'].values,config,config['batch_size'])"
   ]
  },
  {
   "cell_type": "code",
   "execution_count": 7,
   "id": "beac30eb",
   "metadata": {
    "execution": {
     "iopub.execute_input": "2023-08-25T21:59:39.505411Z",
     "iopub.status.busy": "2023-08-25T21:59:39.505100Z",
     "iopub.status.idle": "2023-08-25T21:59:59.509006Z",
     "shell.execute_reply": "2023-08-25T21:59:59.507833Z"
    },
    "papermill": {
     "duration": 20.013399,
     "end_time": "2023-08-25T21:59:59.512078",
     "exception": false,
     "start_time": "2023-08-25T21:59:39.498679",
     "status": "completed"
    },
    "tags": []
   },
   "outputs": [
    {
     "name": "stderr",
     "output_type": "stream",
     "text": [
      "All model checkpoint layers were used when initializing TFRobertaModel.\n",
      "\n",
      "All the layers of TFRobertaModel were initialized from the model checkpoint at /kaggle/input/commonlit-evaluate-summary/embedding_model.\n",
      "If your task is similar to the task the model of the checkpoint was trained on, you can already use TFRobertaModel for predictions without further training.\n"
     ]
    }
   ],
   "source": [
    "class MeanPooling(tf.keras.layers.Layer):\n",
    "    def __init__(self):\n",
    "        super(MeanPooling, self).__init__()\n",
    "        \n",
    "    def call(self, last_hidden_state, attention_mask):\n",
    "        input_mask_expanded = tf.cast(tf.broadcast_to(tf.expand_dims(attention_mask,-1),last_hidden_state.shape.as_list()),tf.float16)\n",
    "        sum_embeddings = tf.reduce_sum(last_hidden_state * tf.cast(input_mask_expanded,tf.float16), 1)\n",
    "        sum_mask = tf.reduce_sum(input_mask_expanded,1)\n",
    "        sum_mask = tf.clip_by_value(sum_mask, clip_value_min=1e-9,clip_value_max=tf.float32.max)\n",
    "        mean_embeddings = sum_embeddings / sum_mask\n",
    "        return mean_embeddings\n",
    "\n",
    "    \n",
    "class CustomModel(tf.keras.Model):\n",
    "\n",
    "    def __init__(self, config):\n",
    "        super().__init__()\n",
    "        \n",
    "        self.embeddings=TFAutoModel.from_pretrained('/kaggle/input/commonlit-evaluate-summary/embedding_model')\n",
    "        self.global_pool = MeanPooling()\n",
    "        self.dense1=tf.keras.layers.Dense(96,activation='relu')\n",
    "        self.dense2=tf.keras.layers.Dense(12,activation='relu')\n",
    "        self.batch_norm1=tf.keras.layers.BatchNormalization()\n",
    "        self.batch_norm2=tf.keras.layers.BatchNormalization()\n",
    "        self.dropout1=tf.keras.layers.Dropout(0.5)\n",
    "        self.dropout2=tf.keras.layers.Dropout(0.5)\n",
    "        self.classifier = tf.keras.layers.Dense(2,dtype='float32')\n",
    "\n",
    "    def call(self, inputs):\n",
    "        embeddings = self.embeddings(**inputs)\n",
    "        x = self.global_pool(embeddings[0],inputs['attention_mask'])\n",
    "        x = self.batch_norm1(x)\n",
    "        x = self.dense1(x)\n",
    "        x = self.batch_norm2(x)\n",
    "        x = self.dropout1(x)\n",
    "        x = self.dense2(x)\n",
    "        x = self.dropout2(x)\n",
    "        return self.classifier(x)\n",
    "    \n",
    "model=CustomModel(config)\n"
   ]
  },
  {
   "cell_type": "code",
   "execution_count": 8,
   "id": "8652833c",
   "metadata": {
    "execution": {
     "iopub.execute_input": "2023-08-25T21:59:59.523981Z",
     "iopub.status.busy": "2023-08-25T21:59:59.523238Z",
     "iopub.status.idle": "2023-08-25T22:00:03.514684Z",
     "shell.execute_reply": "2023-08-25T22:00:03.513574Z"
    },
    "papermill": {
     "duration": 4.00008,
     "end_time": "2023-08-25T22:00:03.517168",
     "exception": false,
     "start_time": "2023-08-25T21:59:59.517088",
     "status": "completed"
    },
    "tags": []
   },
   "outputs": [
    {
     "data": {
      "text/plain": [
       "<tensorflow.python.checkpoint.checkpoint.CheckpointLoadStatus at 0x7bdd84ffb7c0>"
      ]
     },
     "execution_count": 8,
     "metadata": {},
     "output_type": "execute_result"
    }
   ],
   "source": [
    "for batch,(x_val,x_id) in enumerate(test_ds):\n",
    "    model(x_val,training=False)\n",
    "    break\n",
    "    \n",
    "model.load_weights('/kaggle/input/commonlit-evaluate-summary/model_weights/model_weights')"
   ]
  },
  {
   "cell_type": "code",
   "execution_count": 9,
   "id": "165b242a",
   "metadata": {
    "execution": {
     "iopub.execute_input": "2023-08-25T22:00:03.528127Z",
     "iopub.status.busy": "2023-08-25T22:00:03.527831Z",
     "iopub.status.idle": "2023-08-25T22:00:03.819107Z",
     "shell.execute_reply": "2023-08-25T22:00:03.817910Z"
    },
    "papermill": {
     "duration": 0.300114,
     "end_time": "2023-08-25T22:00:03.822016",
     "exception": false,
     "start_time": "2023-08-25T22:00:03.521902",
     "status": "completed"
    },
    "tags": []
   },
   "outputs": [],
   "source": [
    "id_list=[]\n",
    "content_list=[]\n",
    "wording_list=[]\n",
    "\n",
    "for batch, (x_val,x_id) in enumerate(test_ds):\n",
    "    y_pred=model(x_val,training=False)\n",
    "    \n",
    "    content_list.extend(y_pred.numpy()[:,0])\n",
    "    wording_list.extend(y_pred.numpy()[:,1])\n",
    "    id_list.extend(x_id)\n",
    "    \n",
    "    \n",
    "df = pd.DataFrame(columns=['student_id','content','wording'])    \n",
    "df['student_id']=id_list\n",
    "df['content']=content_list\n",
    "df['wording']=wording_list  "
   ]
  },
  {
   "cell_type": "code",
   "execution_count": 10,
   "id": "a7b055bb",
   "metadata": {
    "execution": {
     "iopub.execute_input": "2023-08-25T22:00:03.836078Z",
     "iopub.status.busy": "2023-08-25T22:00:03.833856Z",
     "iopub.status.idle": "2023-08-25T22:00:03.843779Z",
     "shell.execute_reply": "2023-08-25T22:00:03.842699Z"
    },
    "papermill": {
     "duration": 0.019325,
     "end_time": "2023-08-25T22:00:03.846660",
     "exception": false,
     "start_time": "2023-08-25T22:00:03.827335",
     "status": "completed"
    },
    "tags": []
   },
   "outputs": [],
   "source": [
    "df.to_csv('submission.csv',index=False)"
   ]
  },
  {
   "cell_type": "code",
   "execution_count": null,
   "id": "6c8a11cd",
   "metadata": {
    "papermill": {
     "duration": 0.004702,
     "end_time": "2023-08-25T22:00:03.856636",
     "exception": false,
     "start_time": "2023-08-25T22:00:03.851934",
     "status": "completed"
    },
    "tags": []
   },
   "outputs": [],
   "source": []
  }
 ],
 "metadata": {
  "kernelspec": {
   "display_name": "Python 3",
   "language": "python",
   "name": "python3"
  },
  "language_info": {
   "codemirror_mode": {
    "name": "ipython",
    "version": 3
   },
   "file_extension": ".py",
   "mimetype": "text/x-python",
   "name": "python",
   "nbconvert_exporter": "python",
   "pygments_lexer": "ipython3",
   "version": "3.10.12"
  },
  "papermill": {
   "default_parameters": {},
   "duration": 53.042846,
   "end_time": "2023-08-25T22:00:07.677852",
   "environment_variables": {},
   "exception": null,
   "input_path": "__notebook__.ipynb",
   "output_path": "__notebook__.ipynb",
   "parameters": {},
   "start_time": "2023-08-25T21:59:14.635006",
   "version": "2.4.0"
  }
 },
 "nbformat": 4,
 "nbformat_minor": 5
}
